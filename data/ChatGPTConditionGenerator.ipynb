{
 "cells": [
  {
   "cell_type": "code",
   "execution_count": 1,
   "metadata": {},
   "outputs": [],
   "source": [
    "SYMPTOMS = \"\"\"1. Persistent sadness or feelings of hopelessness\n",
    "2. Loss of interest or pleasure in activities once enjoyed\n",
    "3. Changes in appetite or weight (significant weight loss or gain)\n",
    "4. Insomnia or excessive sleeping\n",
    "5. Fatigue or loss of energy\n",
    "6. Restlessness or irritability\n",
    "7. Difficulty concentrating or making decisions\n",
    "8. Feelings of guilt or worthlessness\n",
    "9. Recurrent thoughts of death or suicide\n",
    "10. Social withdrawal or isolation\n",
    "11. Excessive worry or anxiety\n",
    "12. Panic attacks\n",
    "13. Obsessive thoughts or compulsive behaviors\n",
    "14. Intrusive memories or flashbacks\n",
    "15. Hallucinations or delusions\n",
    "16. Paranoia or suspiciousness\n",
    "17. Difficulty managing anger or aggression\n",
    "18. Impulsive or risky behaviors\n",
    "19. Changes in sex drive or sexual behavior\n",
    "20. Physical symptoms without a clear medical cause (headaches, stomachaches)\n",
    "21. Excessive use of alcohol or drugs\n",
    "22. Difficulty coping with daily tasks or responsibilities\n",
    "23. Changes in speech or thought patterns\n",
    "24. Feeling detached from oneself or reality (dissociation)\n",
    "25. Intense mood swings or emotional instability\n",
    "26. Excessive or inappropriate guilt\n",
    "27. Sudden mood changes unrelated to external events\n",
    "28. Decreased ability to feel pleasure (anhedonia)\n",
    "29. Increased or decreased speech (rate, volume, speed)\n",
    "30. Disorganized thinking or speech\n",
    "31. Physical agitation or slowing\n",
    "32. Unexplained aches and pains\n",
    "33. Difficulty with memory, attention, or cognitive functions\n",
    "34. Heightened sensitivity to rejection or criticism\n",
    "35. Avoidance of social situations due to fear of embarrassment\n",
    "36. Intense fear or phobia of specific objects or situations\n",
    "37. Excessive need for reassurance or approval\n",
    "38. Difficulty understanding or relating to others\n",
    "39. Overwhelming feelings of nervousness or tension\n",
    "40. Sudden attacks of fear or terror\n",
    "41. Fear of losing control or \"going crazy\"\n",
    "42. Fear of dying or sense of impending doom\n",
    "43. Numbness or tingling sensations (paresthesias)\n",
    "44. Chills or hot flashes\n",
    "45. A sense of detachment from one's body or surroundings (depersonalization or derealization)\n",
    "46. Excessive preoccupation with physical health or appearance\n",
    "47. Strong avoidance of anything that triggers distressing memories or thoughts\n",
    "48. Reckless disregard for the safety of oneself or others\n",
    "49. Persistent belief in something untrue, despite evidence to the contrary (delusions)\n",
    "50. Repeated, persistent, and unwanted thoughts, urges, or images that are intrusive and cause distress (obsessions)\"\"\"\n",
    "\n",
    "CONDITIONS = \"\"\"1. Major Depressive Disorder: [1, 2, 4, 5, 6, 7, 8, 9, 26, 28]\n",
    "2. Generalized Anxiety Disorder: [7, 11, 14, 20, 22, 39]\n",
    "3. Bipolar Disorder: [1, 2, 4, 5, 6, 7, 17, 18, 24, 25, 27, 28]\n",
    "4. Schizophrenia: [6, 7, 15, 16, 17, 23, 29, 30, 49]\n",
    "5. Post-Traumatic Stress Disorder (PTSD): [1, 9, 10, 14, 17, 20, 47]\n",
    "6. Obsessive-Compulsive Disorder (OCD): [7, 13, 22, 50]\n",
    "7. Panic Disorder: [6, 11, 12, 20, 40, 41, 42]\n",
    "8. Social Anxiety Disorder: [10, 11, 20, 22, 34, 35]\n",
    "9. Borderline Personality Disorder: [1, 8, 10, 17, 18, 19, 25, 27]\n",
    "10. Anorexia Nervosa: [2, 3, 5, 8, 20, 46]\n",
    "11. Bulimia Nervosa: [2, 3, 13, 18, 20, 46]\n",
    "12. Binge-Eating Disorder: [2, 3, 18, 20]\n",
    "13. Attention-Deficit/Hyperactivity Disorder (ADHD): [6, 7, 18, 22, 33]\n",
    "14. Autism Spectrum Disorder: [7, 10, 22, 23, 38]\n",
    "15. Dissociative Identity Disorder: [9, 14, 24, 45]\n",
    "16. Schizoaffective Disorder: [1, 5, 6, 7, 15, 16, 27, 28, 29, 30]\n",
    "17. Narcissistic Personality Disorder: [10, 17, 18, 37]\n",
    "18. Antisocial Personality Disorder: [10, 17, 18, 48]\n",
    "19. Avoidant Personality Disorder: [10, 11, 22, 34]\n",
    "20. Agoraphobia: [10, 11, 12, 20, 36]\n",
    "21. Specific Phobia: [11, 20, 36]\n",
    "22. Substance Use Disorder: [9, 18, 21, 48]\n",
    "23. Insomnia Disorder: [4, 5, 7, 32]\n",
    "24. Body Dysmorphic Disorder: [2, 13, 20, 46]\n",
    "25. Adjustment Disorder: [1, 6, 7, 10, 22, 39]\n",
    "26. Dysthymia (Persistent Depressive Disorder): [1, 2, 4, 5, 6, 7, 26]\n",
    "27. Cyclothymic Disorder: [1, 2, 5, 6, 24, 25, 27]\n",
    "28. Acute Stress Disorder: [1, 9, 14, 20, 39, 47]\n",
    "29. Panic Disorder with Agoraphobia: [7, 11, 12, 20, 36, 40]\n",
    "30. Separation Anxiety Disorder: [10, 11, 20, 34]\n",
    "31. Selective Mutism: [10, 22, 23, 38]\n",
    "32. Reactive Attachment Disorder: [10, 22, 38]\n",
    "33. Disinhibited Social Engagement Disorder: [10, 18, 38]\n",
    "34. Trichotillomania (Hair-Pulling Disorder): [13, 18, 32]\n",
    "35. Excoriation (Skin-Picking) Disorder: [13, 18, 32]\n",
    "36. Hoarding Disorder: [13, 22, 46]\n",
    "37. Paranoid Personality Disorder: [16, 17, 34]\n",
    "38. Schizoid Personality Disorder: [10, 22, 38]\n",
    "39. Schizotypal Personality Disorder: [10, 15, 16, 38]\n",
    "40. Histrionic Personality Disorder: [1, 17, 18, 35]\n",
    "41. Dependent Personality Disorder: [10, 17, 22, 37]\n",
    "42. Obsessive-Compulsive Personality Disorder: [7, 13, 22, 36]\n",
    "43. Intermittent Explosive Disorder: [17, 18, 48]\n",
    "44. Conduct Disorder: [17, 18, 21, 48]\n",
    "45. Oppositional Defiant Disorder: [6, 17, 22, 48]\n",
    "46. Delusional Disorder: [15, 16, 49]\n",
    "47. Brief Psychotic Disorder: [15, 16, 23, 29, 30]\n",
    "48. Shared Psychotic Disorder (Folie à Deux): [15, 16, 49]\n",
    "49. Premenstrual Dysphoric Disorder: [1, 5, 6, 7, 17, 42]\n",
    "50. Gambling Disorder: [18, 21, 37]\"\"\""
   ]
  },
  {
   "cell_type": "code",
   "execution_count": 2,
   "metadata": {},
   "outputs": [
    {
     "data": {
      "text/plain": [
       "[[1, 2, 4, 5, 6, 7, 8, 9, 26, 28],\n",
       " [7, 11, 14, 20, 22, 39],\n",
       " [1, 2, 4, 5, 6, 7, 17, 18, 24, 25, 27, 28],\n",
       " [6, 7, 15, 16, 17, 23, 29, 30, 49],\n",
       " [1, 9, 10, 14, 17, 20, 47]]"
      ]
     },
     "execution_count": 2,
     "metadata": {},
     "output_type": "execute_result"
    }
   ],
   "source": [
    "import json\n",
    "symptoms = [symptom.split(\".\")[-1].strip() for symptom in SYMPTOMS.split(\"\\n\")]\n",
    "medical_conditions = [condition.split(\".\")[-1].split(\":\")[0].strip() for condition in CONDITIONS.split(\"\\n\")]\n",
    "condition_symptoms = [json.loads(condition.split(\":\")[-1].strip()) for condition in CONDITIONS.split(\"\\n\")]\n",
    "condition_symptoms[:5]"
   ]
  },
  {
   "cell_type": "code",
   "execution_count": 3,
   "metadata": {},
   "outputs": [],
   "source": [
    "import networkx as nx\n",
    "\n",
    "G = nx.Graph()\n",
    "for symptom in symptoms:\n",
    "    G.add_nodes_from([(symptom, {\"name\": symptom, \"type\": \"symptom\"})])\n",
    "\n",
    "for mc in medical_conditions:\n",
    "    G.add_nodes_from([(mc, {\"name\": mc, \"type\": \"MedicalCondition\", \"prevalence\": 100})])\n",
    "\n",
    "for i in range(len(condition_symptoms)):\n",
    "    for j in range(len(condition_symptoms[i])):\n",
    "        G.add_edge(medical_conditions[i], symptoms[condition_symptoms[i][j] - 1], prevalence=100)\n",
    "\n",
    "G.remove_nodes_from(list(nx.isolates(G)))"
   ]
  },
  {
   "cell_type": "code",
   "execution_count": 4,
   "metadata": {},
   "outputs": [
    {
     "name": "stderr",
     "output_type": "stream",
     "text": [
      "c:\\workspace\\AIToolsAndParadigms\\.venv\\Lib\\site-packages\\tqdm\\auto.py:21: TqdmWarning: IProgress not found. Please update jupyter and ipywidgets. See https://ipywidgets.readthedocs.io/en/stable/user_install.html\n",
      "  from .autonotebook import tqdm as notebook_tqdm\n"
     ]
    },
    {
     "data": {
      "text/plain": [
       "array([[1.0000002 , 0.88460827, 0.8492991 , ..., 0.8368596 , 0.8652588 ,\n",
       "        0.87275475],\n",
       "       [0.88460827, 1.0000001 , 0.8711475 , ..., 0.8546102 , 0.8351253 ,\n",
       "        0.85481024],\n",
       "       [0.8492991 , 0.8711475 , 1.        , ..., 0.8358776 , 0.8341692 ,\n",
       "        0.8357734 ],\n",
       "       ...,\n",
       "       [0.8368596 , 0.8546102 , 0.8358776 , ..., 0.9999998 , 0.8401745 ,\n",
       "        0.8357856 ],\n",
       "       [0.8652589 , 0.8351253 , 0.83416927, ..., 0.84017456, 1.        ,\n",
       "        0.8792527 ],\n",
       "       [0.8727547 , 0.85481024, 0.8357734 , ..., 0.8357856 , 0.8792527 ,\n",
       "        0.99999994]], dtype=float32)"
      ]
     },
     "execution_count": 4,
     "metadata": {},
     "output_type": "execute_result"
    }
   ],
   "source": [
    "import torch.nn.functional as F\n",
    "import torch\n",
    "\n",
    "from torch import Tensor\n",
    "from transformers import AutoTokenizer, AutoModel\n",
    "\n",
    "\n",
    "def average_pool(last_hidden_states: Tensor,\n",
    "                 attention_mask: Tensor) -> Tensor:\n",
    "    last_hidden = last_hidden_states.masked_fill(~attention_mask[..., None].bool(), 0.0)\n",
    "    return last_hidden.sum(dim=1) / attention_mask.sum(dim=1)[..., None]\n",
    "\n",
    "symptom_names_prompt_engineered = [f\"Symptoms {symptom_name}\" for symptom_name in symptoms]\n",
    "tokenizer = AutoTokenizer.from_pretrained('intfloat/e5-large-v2')\n",
    "model = AutoModel.from_pretrained('intfloat/e5-large-v2')\n",
    "\n",
    "def get_embeddings(texts):\n",
    "    # Tokenize the input texts\n",
    "    batch_dict = tokenizer(texts, max_length=512, padding=True, truncation=True, return_tensors='pt')\n",
    "\n",
    "    outputs = model(**batch_dict)\n",
    "    embeddings = average_pool(outputs.last_hidden_state, batch_dict['attention_mask'])\n",
    "\n",
    "    # normalize embeddings\n",
    "    embeddings = F.normalize(embeddings, p=2, dim=1)\n",
    "    return embeddings\n",
    "    \n",
    "embeddings = get_embeddings(symptom_names_prompt_engineered)\n",
    "scores = ((embeddings @ embeddings.T)).detach().numpy()\n",
    "scores"
   ]
  },
  {
   "cell_type": "code",
   "execution_count": 16,
   "metadata": {},
   "outputs": [
    {
     "name": "stdout",
     "output_type": "stream",
     "text": [
      "Persistent sadness or feelings of hopelessness | Loss of interest or pleasure in activities once enjoyed | Changes in appetite or weight (significant weight loss or gain) | Insomnia or excessive sleeping | Fatigue or loss of energy | Restlessness or irritability | Difficulty concentrating or making decisions | Feelings of guilt or worthlessness | Recurrent thoughts of death or suicide | Social withdrawal or isolation\n"
     ]
    },
    {
     "data": {
      "text/plain": [
       "[('Autism Spectrum Disorder', 0.4424778761061947),\n",
       " ('Adjustment Disorder', 0.4424778761061947),\n",
       " ('Major Depressive Disorder', 0.004424778761061947),\n",
       " ('Generalized Anxiety Disorder', 0.004424778761061947),\n",
       " ('Bipolar Disorder', 0.004424778761061947),\n",
       " ('Schizophrenia', 0.004424778761061947),\n",
       " ('Post-Traumatic Stress Disorder (PTSD)', 0.004424778761061947),\n",
       " ('Obsessive-Compulsive Disorder (OCD)', 0.004424778761061947),\n",
       " ('Social Anxiety Disorder', 0.004424778761061947),\n",
       " ('Borderline Personality Disorder', 0.004424778761061947),\n",
       " ('Attention-Deficit/Hyperactivity Disorder (ADHD)', 0.004424778761061947),\n",
       " ('Schizoaffective Disorder', 0.004424778761061947),\n",
       " ('Narcissistic Personality Disorder', 0.004424778761061947),\n",
       " ('Antisocial Personality Disorder', 0.004424778761061947),\n",
       " ('Avoidant Personality Disorder', 0.004424778761061947),\n",
       " ('Agoraphobia', 0.004424778761061947),\n",
       " ('Insomnia Disorder', 0.004424778761061947),\n",
       " ('Dysthymia (Persistent Depressive Disorder)', 0.004424778761061947),\n",
       " ('Panic Disorder with Agoraphobia', 0.004424778761061947),\n",
       " ('Separation Anxiety Disorder', 0.004424778761061947),\n",
       " ('Selective Mutism', 0.004424778761061947),\n",
       " ('Reactive Attachment Disorder', 0.004424778761061947),\n",
       " ('Disinhibited Social Engagement Disorder', 0.004424778761061947),\n",
       " ('Schizoid Personality Disorder', 0.004424778761061947),\n",
       " ('Schizotypal Personality Disorder', 0.004424778761061947),\n",
       " ('Dependent Personality Disorder', 0.004424778761061947),\n",
       " ('Obsessive-Compulsive Personality Disorder', 0.004424778761061947),\n",
       " ('Premenstrual Dysphoric Disorder', 0.004424778761061947),\n",
       " ('Panic Disorder', 0.0),\n",
       " ('Anorexia Nervosa', 0.0),\n",
       " ('Bulimia Nervosa', 0.0),\n",
       " ('Binge-Eating Disorder', 0.0),\n",
       " ('Dissociative Identity Disorder', 0.0),\n",
       " ('Specific Phobia', 0.0),\n",
       " ('Substance Use Disorder', 0.0),\n",
       " ('Body Dysmorphic Disorder', 0.0),\n",
       " ('Cyclothymic Disorder', 0.0),\n",
       " ('Acute Stress Disorder', 0.0),\n",
       " ('Trichotillomania (Hair-Pulling Disorder)', 0.0),\n",
       " ('Excoriation (Skin-Picking) Disorder', 0.0),\n",
       " ('Hoarding Disorder', 0.0),\n",
       " ('Paranoid Personality Disorder', 0.0),\n",
       " ('Histrionic Personality Disorder', 0.0),\n",
       " ('Intermittent Explosive Disorder', 0.0),\n",
       " ('Conduct Disorder', 0.0),\n",
       " ('Oppositional Defiant Disorder', 0.0),\n",
       " ('Delusional Disorder', 0.0),\n",
       " ('Brief Psychotic Disorder', 0.0),\n",
       " ('Shared Psychotic Disorder (Folie à Deux)', 0.0),\n",
       " ('Gambling Disorder', 0.0)]"
      ]
     },
     "execution_count": 16,
     "metadata": {},
     "output_type": "execute_result"
    }
   ],
   "source": [
    "import sys\n",
    "from importlib import reload\n",
    "sys.path.append('../')\n",
    "import os\n",
    "import src.ProbabilisticSymptomGraph\n",
    "from src.ProbabilisticSymptomGraph import ProbabilisticSymptomConditionGraph\n",
    "\n",
    "probabilistic_graph = ProbabilisticSymptomConditionGraph(medical_conditions, symptoms, G, scores, similarity_cutoff=0.5)\n",
    "print(\" | \".join(probabilistic_graph.get_all_symptoms()[:10]))\n",
    "probabilistic_graph.get_condition_probs([\"Difficulty concentrating or making decisions\", \"Social withdrawal or isolation\"])[:100]"
   ]
  },
  {
   "cell_type": "code",
   "execution_count": 18,
   "metadata": {},
   "outputs": [],
   "source": [
    "import numpy as np\n",
    "nx.write_gexf(G, \"mental-mc-symptom.gexf\")\n",
    "np.save('mental-mc-symptom-sim-mat.npy', scores)"
   ]
  },
  {
   "cell_type": "code",
   "execution_count": null,
   "metadata": {},
   "outputs": [],
   "source": []
  }
 ],
 "metadata": {
  "kernelspec": {
   "display_name": ".venv",
   "language": "python",
   "name": "python3"
  },
  "language_info": {
   "codemirror_mode": {
    "name": "ipython",
    "version": 3
   },
   "file_extension": ".py",
   "mimetype": "text/x-python",
   "name": "python",
   "nbconvert_exporter": "python",
   "pygments_lexer": "ipython3",
   "version": "3.11.4"
  }
 },
 "nbformat": 4,
 "nbformat_minor": 2
}
