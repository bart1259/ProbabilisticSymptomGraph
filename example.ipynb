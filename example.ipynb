{
 "cells": [
  {
   "cell_type": "code",
   "execution_count": 2,
   "metadata": {},
   "outputs": [],
   "source": [
    "from src.ProbabilisticSymptomGraph import ProbabilisticSymptomConditionGraph"
   ]
  },
  {
   "cell_type": "code",
   "execution_count": 3,
   "metadata": {},
   "outputs": [
    {
     "name": "stdout",
     "output_type": "stream",
     "text": [
      "abdominal distension | abdominal pain | acne | aggression | agitated | altered level of consciousness | anaphylaxis | anemia | anorexia | anxiety\n"
     ]
    },
    {
     "data": {
      "text/plain": [
       "[('Polycystic ovary syndrome', 0.7457834133398034),\n",
       " ('Hyperandrogenism', 0.2397160971449368),\n",
       " (\"Cushing's syndrome\", 0.010654048761997192),\n",
       " ('Fever', 0.002811063881103126),\n",
       " ('Reflex syncope', 0.00024596808959652356)]"
      ]
     },
     "execution_count": 3,
     "metadata": {},
     "output_type": "execute_result"
    }
   ],
   "source": [
    "import networkx as nx\n",
    "import numpy as np\n",
    "\n",
    "medical_condition_gexf = \"./data/medical-condition-symptom-graph.gexf\"\n",
    "graph = nx.read_gexf(medical_condition_gexf)\n",
    "sim_matrix = np.load('./data/md-symptom-sim-mat.npy')\n",
    "\n",
    "symptom_names = []\n",
    "for node_id, tpe in graph.nodes(data=\"type\"):\n",
    "    if tpe == \"Symptom\":\n",
    "        symptom_names.append(node_id)\n",
    "symptom_names = sorted(symptom_names)\n",
    "\n",
    "condition_names = []\n",
    "for node_id, tpe in graph.nodes(data=\"type\"):\n",
    "    if tpe == \"MedicalCondition\":\n",
    "        condition_names.append(node_id)\n",
    "condition_names = sorted(condition_names)\n",
    "\n",
    "probabilistic_graph = ProbabilisticSymptomConditionGraph(condition_names, symptom_names, graph, sim_matrix)\n",
    "print(\" | \".join(probabilistic_graph.get_all_symptoms()[:10]))\n",
    "probabilistic_graph.get_condition_probs([\"acne\"])[:5]"
   ]
  },
  {
   "cell_type": "code",
   "execution_count": null,
   "metadata": {},
   "outputs": [],
   "source": []
  }
 ],
 "metadata": {
  "kernelspec": {
   "display_name": ".venv",
   "language": "python",
   "name": "python3"
  },
  "language_info": {
   "codemirror_mode": {
    "name": "ipython",
    "version": 3
   },
   "file_extension": ".py",
   "mimetype": "text/x-python",
   "name": "python",
   "nbconvert_exporter": "python",
   "pygments_lexer": "ipython3",
   "version": "3.11.4"
  }
 },
 "nbformat": 4,
 "nbformat_minor": 2
}
